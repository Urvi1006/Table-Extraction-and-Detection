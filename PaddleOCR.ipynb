{
  "cells": [
    {
      "cell_type": "markdown",
      "metadata": {
        "id": "view-in-github",
        "colab_type": "text"
      },
      "source": [
        "<a href=\"https://colab.research.google.com/github/Urvi1006/tables/blob/new/PaddleOCR.ipynb\" target=\"_parent\"><img src=\"https://colab.research.google.com/assets/colab-badge.svg\" alt=\"Open In Colab\"/></a>"
      ]
    },
    {
      "cell_type": "code",
      "source": [
        "from PIL import Image\n",
        "import cv2\n",
        "import numpy as np\n",
        "import pandas as pd \n",
        "import tensorflow as tf"
      ],
      "metadata": {
        "id": "mhEjVUbiUytV"
      },
      "execution_count": null,
      "outputs": []
    },
    {
      "cell_type": "code",
      "source": [
        "#!pip install paddlepaddle-gpu==2.3.2 cudatoolkit==10.2"
      ],
      "metadata": {
        "id": "JejuCeNXHckg"
      },
      "execution_count": null,
      "outputs": []
    },
    {
      "cell_type": "code",
      "source": [
        "!pip install paddlepaddle-gpu==2.3.0.post110 -f https://www.paddlepaddle.org.cn/whl/linux/mkl/avx/stable.html"
      ],
      "metadata": {
        "colab": {
          "base_uri": "https://localhost:8080/"
        },
        "id": "xWhdOt9Jay6z",
        "outputId": "6b38a514-c9a3-476c-e720-87772962d35a"
      },
      "execution_count": null,
      "outputs": [
        {
          "output_type": "stream",
          "name": "stdout",
          "text": [
            "Looking in indexes: https://pypi.org/simple, https://us-python.pkg.dev/colab-wheels/public/simple/\n",
            "Looking in links: https://www.paddlepaddle.org.cn/whl/linux/mkl/avx/stable.html\n",
            "Requirement already satisfied: paddlepaddle-gpu==2.3.0.post110 in /usr/local/lib/python3.8/dist-packages (2.3.0.post110)\n",
            "Requirement already satisfied: astor in /usr/local/lib/python3.8/dist-packages (from paddlepaddle-gpu==2.3.0.post110) (0.8.1)\n",
            "Requirement already satisfied: protobuf>=3.1.0 in /usr/local/lib/python3.8/dist-packages (from paddlepaddle-gpu==2.3.0.post110) (3.20.0)\n",
            "Requirement already satisfied: decorator in /usr/local/lib/python3.8/dist-packages (from paddlepaddle-gpu==2.3.0.post110) (4.4.2)\n",
            "Requirement already satisfied: numpy>=1.13 in /usr/local/lib/python3.8/dist-packages (from paddlepaddle-gpu==2.3.0.post110) (1.21.6)\n",
            "Requirement already satisfied: six in /usr/local/lib/python3.8/dist-packages (from paddlepaddle-gpu==2.3.0.post110) (1.15.0)\n",
            "Requirement already satisfied: Pillow in /usr/local/lib/python3.8/dist-packages (from paddlepaddle-gpu==2.3.0.post110) (7.1.2)\n",
            "Requirement already satisfied: paddle-bfloat==0.1.2 in /usr/local/lib/python3.8/dist-packages (from paddlepaddle-gpu==2.3.0.post110) (0.1.2)\n",
            "Requirement already satisfied: requests>=2.20.0 in /usr/local/lib/python3.8/dist-packages (from paddlepaddle-gpu==2.3.0.post110) (2.23.0)\n",
            "Requirement already satisfied: opt-einsum==3.3.0 in /usr/local/lib/python3.8/dist-packages (from paddlepaddle-gpu==2.3.0.post110) (3.3.0)\n",
            "Requirement already satisfied: certifi>=2017.4.17 in /usr/local/lib/python3.8/dist-packages (from requests>=2.20.0->paddlepaddle-gpu==2.3.0.post110) (2022.12.7)\n",
            "Requirement already satisfied: urllib3!=1.25.0,!=1.25.1,<1.26,>=1.21.1 in /usr/local/lib/python3.8/dist-packages (from requests>=2.20.0->paddlepaddle-gpu==2.3.0.post110) (1.24.3)\n",
            "Requirement already satisfied: idna<3,>=2.5 in /usr/local/lib/python3.8/dist-packages (from requests>=2.20.0->paddlepaddle-gpu==2.3.0.post110) (2.10)\n",
            "Requirement already satisfied: chardet<4,>=3.0.2 in /usr/local/lib/python3.8/dist-packages (from requests>=2.20.0->paddlepaddle-gpu==2.3.0.post110) (3.0.4)\n"
          ]
        }
      ]
    },
    {
      "cell_type": "markdown",
      "source": [
        "# Layout"
      ],
      "metadata": {
        "id": "Urwb7Q_OZC8t"
      }
    },
    {
      "cell_type": "markdown",
      "source": [
        "## Installation"
      ],
      "metadata": {
        "id": "vTkwQbF4FZPN"
      }
    },
    {
      "cell_type": "code",
      "source": [
        "#!python3 -m pip install paddlepaddle-gpu\n",
        "!pip install \"paddleocr>=2.0.1\"\n",
        "!pip install protobuf==3.20.0\n",
        "!git clone https://github.com/PaddlePaddle/PaddleOCR.git"
      ],
      "metadata": {
        "colab": {
          "base_uri": "https://localhost:8080/"
        },
        "id": "R0lRpQLkIpbZ",
        "outputId": "3c3de8f6-db2e-4ea8-f78b-0e3b32f4183e"
      },
      "execution_count": null,
      "outputs": [
        {
          "output_type": "stream",
          "name": "stdout",
          "text": [
            "Looking in indexes: https://pypi.org/simple, https://us-python.pkg.dev/colab-wheels/public/simple/\n",
            "Requirement already satisfied: paddleocr>=2.0.1 in /usr/local/lib/python3.8/dist-packages (2.6.1.2)\n",
            "Requirement already satisfied: openpyxl in /usr/local/lib/python3.8/dist-packages (from paddleocr>=2.0.1) (3.0.10)\n",
            "Requirement already satisfied: fonttools>=4.24.0 in /usr/local/lib/python3.8/dist-packages (from paddleocr>=2.0.1) (4.38.0)\n",
            "Requirement already satisfied: visualdl in /usr/local/lib/python3.8/dist-packages (from paddleocr>=2.0.1) (2.4.2)\n",
            "Requirement already satisfied: cython in /usr/local/lib/python3.8/dist-packages (from paddleocr>=2.0.1) (0.29.32)\n",
            "Requirement already satisfied: fire>=0.3.0 in /usr/local/lib/python3.8/dist-packages (from paddleocr>=2.0.1) (0.5.0)\n",
            "Requirement already satisfied: premailer in /usr/local/lib/python3.8/dist-packages (from paddleocr>=2.0.1) (3.10.0)\n",
            "Requirement already satisfied: python-docx in /usr/local/lib/python3.8/dist-packages (from paddleocr>=2.0.1) (0.8.11)\n",
            "Requirement already satisfied: tqdm in /usr/local/lib/python3.8/dist-packages (from paddleocr>=2.0.1) (4.64.1)\n",
            "Requirement already satisfied: opencv-python in /usr/local/lib/python3.8/dist-packages (from paddleocr>=2.0.1) (4.6.0.66)\n",
            "Requirement already satisfied: opencv-contrib-python in /usr/local/lib/python3.8/dist-packages (from paddleocr>=2.0.1) (4.6.0.66)\n",
            "Requirement already satisfied: imgaug in /usr/local/lib/python3.8/dist-packages (from paddleocr>=2.0.1) (0.4.0)\n",
            "Requirement already satisfied: attrdict in /usr/local/lib/python3.8/dist-packages (from paddleocr>=2.0.1) (2.0.1)\n",
            "Requirement already satisfied: numpy in /usr/local/lib/python3.8/dist-packages (from paddleocr>=2.0.1) (1.21.6)\n",
            "Requirement already satisfied: shapely in /usr/local/lib/python3.8/dist-packages (from paddleocr>=2.0.1) (2.0.0)\n",
            "Requirement already satisfied: beautifulsoup4 in /usr/local/lib/python3.8/dist-packages (from paddleocr>=2.0.1) (4.6.3)\n",
            "Requirement already satisfied: PyMuPDF<1.21.0 in /usr/local/lib/python3.8/dist-packages (from paddleocr>=2.0.1) (1.20.2)\n",
            "Requirement already satisfied: pyclipper in /usr/local/lib/python3.8/dist-packages (from paddleocr>=2.0.1) (1.3.0.post4)\n",
            "Requirement already satisfied: lxml in /usr/local/lib/python3.8/dist-packages (from paddleocr>=2.0.1) (4.9.2)\n",
            "Requirement already satisfied: pdf2docx in /usr/local/lib/python3.8/dist-packages (from paddleocr>=2.0.1) (0.5.6)\n",
            "Requirement already satisfied: scikit-image in /usr/local/lib/python3.8/dist-packages (from paddleocr>=2.0.1) (0.18.3)\n",
            "Requirement already satisfied: rapidfuzz in /usr/local/lib/python3.8/dist-packages (from paddleocr>=2.0.1) (2.13.7)\n",
            "Requirement already satisfied: lmdb in /usr/local/lib/python3.8/dist-packages (from paddleocr>=2.0.1) (0.99)\n",
            "Requirement already satisfied: termcolor in /usr/local/lib/python3.8/dist-packages (from fire>=0.3.0->paddleocr>=2.0.1) (2.1.1)\n",
            "Requirement already satisfied: six in /usr/local/lib/python3.8/dist-packages (from fire>=0.3.0->paddleocr>=2.0.1) (1.15.0)\n",
            "Requirement already satisfied: Pillow in /usr/local/lib/python3.8/dist-packages (from imgaug->paddleocr>=2.0.1) (7.1.2)\n",
            "Requirement already satisfied: scipy in /usr/local/lib/python3.8/dist-packages (from imgaug->paddleocr>=2.0.1) (1.7.3)\n",
            "Requirement already satisfied: matplotlib in /usr/local/lib/python3.8/dist-packages (from imgaug->paddleocr>=2.0.1) (3.2.2)\n",
            "Requirement already satisfied: imageio in /usr/local/lib/python3.8/dist-packages (from imgaug->paddleocr>=2.0.1) (2.9.0)\n",
            "Requirement already satisfied: PyWavelets>=1.1.1 in /usr/local/lib/python3.8/dist-packages (from scikit-image->paddleocr>=2.0.1) (1.4.1)\n",
            "Requirement already satisfied: tifffile>=2019.7.26 in /usr/local/lib/python3.8/dist-packages (from scikit-image->paddleocr>=2.0.1) (2022.10.10)\n",
            "Requirement already satisfied: networkx>=2.0 in /usr/local/lib/python3.8/dist-packages (from scikit-image->paddleocr>=2.0.1) (2.8.8)\n",
            "Requirement already satisfied: cycler>=0.10 in /usr/local/lib/python3.8/dist-packages (from matplotlib->imgaug->paddleocr>=2.0.1) (0.11.0)\n",
            "Requirement already satisfied: kiwisolver>=1.0.1 in /usr/local/lib/python3.8/dist-packages (from matplotlib->imgaug->paddleocr>=2.0.1) (1.4.4)\n",
            "Requirement already satisfied: python-dateutil>=2.1 in /usr/local/lib/python3.8/dist-packages (from matplotlib->imgaug->paddleocr>=2.0.1) (2.8.2)\n",
            "Requirement already satisfied: pyparsing!=2.0.4,!=2.1.2,!=2.1.6,>=2.0.1 in /usr/local/lib/python3.8/dist-packages (from matplotlib->imgaug->paddleocr>=2.0.1) (3.0.9)\n",
            "Requirement already satisfied: et-xmlfile in /usr/local/lib/python3.8/dist-packages (from openpyxl->paddleocr>=2.0.1) (1.1.0)\n",
            "Requirement already satisfied: cssutils in /usr/local/lib/python3.8/dist-packages (from premailer->paddleocr>=2.0.1) (2.6.0)\n",
            "Requirement already satisfied: cachetools in /usr/local/lib/python3.8/dist-packages (from premailer->paddleocr>=2.0.1) (5.2.0)\n",
            "Requirement already satisfied: cssselect in /usr/local/lib/python3.8/dist-packages (from premailer->paddleocr>=2.0.1) (1.2.0)\n",
            "Requirement already satisfied: requests in /usr/local/lib/python3.8/dist-packages (from premailer->paddleocr>=2.0.1) (2.23.0)\n",
            "Requirement already satisfied: idna<3,>=2.5 in /usr/local/lib/python3.8/dist-packages (from requests->premailer->paddleocr>=2.0.1) (2.10)\n",
            "Requirement already satisfied: chardet<4,>=3.0.2 in /usr/local/lib/python3.8/dist-packages (from requests->premailer->paddleocr>=2.0.1) (3.0.4)\n",
            "Requirement already satisfied: urllib3!=1.25.0,!=1.25.1,<1.26,>=1.21.1 in /usr/local/lib/python3.8/dist-packages (from requests->premailer->paddleocr>=2.0.1) (1.24.3)\n",
            "Requirement already satisfied: certifi>=2017.4.17 in /usr/local/lib/python3.8/dist-packages (from requests->premailer->paddleocr>=2.0.1) (2022.12.7)\n",
            "Requirement already satisfied: Flask-Babel>=1.0.0 in /usr/local/lib/python3.8/dist-packages (from visualdl->paddleocr>=2.0.1) (2.0.0)\n",
            "Requirement already satisfied: pandas in /usr/local/lib/python3.8/dist-packages (from visualdl->paddleocr>=2.0.1) (1.3.5)\n",
            "Requirement already satisfied: bce-python-sdk in /usr/local/lib/python3.8/dist-packages (from visualdl->paddleocr>=2.0.1) (0.8.74)\n",
            "Requirement already satisfied: protobuf>=3.11.0 in /usr/local/lib/python3.8/dist-packages (from visualdl->paddleocr>=2.0.1) (3.20.0)\n",
            "Requirement already satisfied: flask>=1.1.1 in /usr/local/lib/python3.8/dist-packages (from visualdl->paddleocr>=2.0.1) (1.1.4)\n",
            "Requirement already satisfied: multiprocess in /usr/local/lib/python3.8/dist-packages (from visualdl->paddleocr>=2.0.1) (0.70.14)\n",
            "Requirement already satisfied: packaging in /usr/local/lib/python3.8/dist-packages (from visualdl->paddleocr>=2.0.1) (21.3)\n",
            "Requirement already satisfied: Jinja2<3.0,>=2.10.1 in /usr/local/lib/python3.8/dist-packages (from flask>=1.1.1->visualdl->paddleocr>=2.0.1) (2.11.3)\n",
            "Requirement already satisfied: Werkzeug<2.0,>=0.15 in /usr/local/lib/python3.8/dist-packages (from flask>=1.1.1->visualdl->paddleocr>=2.0.1) (1.0.1)\n",
            "Requirement already satisfied: click<8.0,>=5.1 in /usr/local/lib/python3.8/dist-packages (from flask>=1.1.1->visualdl->paddleocr>=2.0.1) (7.1.2)\n",
            "Requirement already satisfied: itsdangerous<2.0,>=0.24 in /usr/local/lib/python3.8/dist-packages (from flask>=1.1.1->visualdl->paddleocr>=2.0.1) (1.1.0)\n",
            "Requirement already satisfied: pytz in /usr/local/lib/python3.8/dist-packages (from Flask-Babel>=1.0.0->visualdl->paddleocr>=2.0.1) (2022.6)\n",
            "Requirement already satisfied: Babel>=2.3 in /usr/local/lib/python3.8/dist-packages (from Flask-Babel>=1.0.0->visualdl->paddleocr>=2.0.1) (2.11.0)\n",
            "Requirement already satisfied: MarkupSafe>=0.23 in /usr/local/lib/python3.8/dist-packages (from Jinja2<3.0,>=2.10.1->flask>=1.1.1->visualdl->paddleocr>=2.0.1) (2.0.1)\n",
            "Requirement already satisfied: future>=0.6.0 in /usr/local/lib/python3.8/dist-packages (from bce-python-sdk->visualdl->paddleocr>=2.0.1) (0.16.0)\n",
            "Requirement already satisfied: pycryptodome>=3.8.0 in /usr/local/lib/python3.8/dist-packages (from bce-python-sdk->visualdl->paddleocr>=2.0.1) (3.16.0)\n",
            "Requirement already satisfied: dill>=0.3.6 in /usr/local/lib/python3.8/dist-packages (from multiprocess->visualdl->paddleocr>=2.0.1) (0.3.6)\n",
            "Looking in indexes: https://pypi.org/simple, https://us-python.pkg.dev/colab-wheels/public/simple/\n",
            "Requirement already satisfied: protobuf==3.20.0 in /usr/local/lib/python3.8/dist-packages (3.20.0)\n",
            "fatal: destination path 'PaddleOCR' already exists and is not an empty directory.\n"
          ]
        }
      ]
    },
    {
      "cell_type": "code",
      "source": [
        "a=5"
      ],
      "metadata": {
        "id": "IXEKTAa2_10K"
      },
      "execution_count": null,
      "outputs": []
    },
    {
      "cell_type": "code",
      "source": [
        "!wget https://paddleocr.bj.bcebos.com/whl/layoutparser-0.0.0-py3-none-any.whl\n",
        "!pip install -U layoutparser-0.0.0-py3-none-any.whl"
      ],
      "metadata": {
        "colab": {
          "base_uri": "https://localhost:8080/"
        },
        "id": "8gWFgGl5CXu6",
        "outputId": "ff11effd-f3da-4047-f499-8f0662fc2cd8"
      },
      "execution_count": null,
      "outputs": [
        {
          "output_type": "stream",
          "name": "stdout",
          "text": [
            "--2022-12-28 07:39:07--  https://paddleocr.bj.bcebos.com/whl/layoutparser-0.0.0-py3-none-any.whl\n",
            "Resolving paddleocr.bj.bcebos.com (paddleocr.bj.bcebos.com)... 103.235.46.61, 2409:8c04:1001:1002:0:ff:b001:368a\n",
            "Connecting to paddleocr.bj.bcebos.com (paddleocr.bj.bcebos.com)|103.235.46.61|:443... connected.\n",
            "HTTP request sent, awaiting response... 200 OK\n",
            "Length: 19145360 (18M) [application/octet-stream]\n",
            "Saving to: ‘layoutparser-0.0.0-py3-none-any.whl.1’\n",
            "\n",
            "layoutparser-0.0.0- 100%[===================>]  18.26M  3.11MB/s    in 13s     \n",
            "\n",
            "2022-12-28 07:39:23 (1.39 MB/s) - ‘layoutparser-0.0.0-py3-none-any.whl.1’ saved [19145360/19145360]\n",
            "\n",
            "Looking in indexes: https://pypi.org/simple, https://us-python.pkg.dev/colab-wheels/public/simple/\n",
            "Processing ./layoutparser-0.0.0-py3-none-any.whl\n",
            "Requirement already satisfied: numpy in /usr/local/lib/python3.8/dist-packages (from layoutparser==0.0.0) (1.21.6)\n",
            "Requirement already satisfied: tqdm in /usr/local/lib/python3.8/dist-packages (from layoutparser==0.0.0) (4.64.1)\n",
            "Requirement already satisfied: opencv-python in /usr/local/lib/python3.8/dist-packages (from layoutparser==0.0.0) (4.6.0.66)\n",
            "Requirement already satisfied: pyyaml>=5.1 in /usr/local/lib/python3.8/dist-packages (from layoutparser==0.0.0) (6.0)\n",
            "Requirement already satisfied: iopath in /usr/local/lib/python3.8/dist-packages (from layoutparser==0.0.0) (0.1.10)\n",
            "Requirement already satisfied: pandas in /usr/local/lib/python3.8/dist-packages (from layoutparser==0.0.0) (1.3.5)\n",
            "Requirement already satisfied: pillow in /usr/local/lib/python3.8/dist-packages (from layoutparser==0.0.0) (7.1.2)\n",
            "Requirement already satisfied: typing-extensions in /usr/local/lib/python3.8/dist-packages (from iopath->layoutparser==0.0.0) (4.4.0)\n",
            "Requirement already satisfied: portalocker in /usr/local/lib/python3.8/dist-packages (from iopath->layoutparser==0.0.0) (2.6.0)\n",
            "Requirement already satisfied: pytz>=2017.3 in /usr/local/lib/python3.8/dist-packages (from pandas->layoutparser==0.0.0) (2022.6)\n",
            "Requirement already satisfied: python-dateutil>=2.7.3 in /usr/local/lib/python3.8/dist-packages (from pandas->layoutparser==0.0.0) (2.8.2)\n",
            "Requirement already satisfied: six>=1.5 in /usr/local/lib/python3.8/dist-packages (from python-dateutil>=2.7.3->pandas->layoutparser==0.0.0) (1.15.0)\n",
            "layoutparser is already installed with the same version as the provided wheel. Use --force-reinstall to force an installation of the wheel.\n"
          ]
        }
      ]
    },
    {
      "cell_type": "markdown",
      "source": [
        "## Table Extraction"
      ],
      "metadata": {
        "id": "w5MA08E0F8aU"
      }
    },
    {
      "cell_type": "code",
      "source": [
        "import cv2\n",
        "import layoutparser as lp\n",
        "image = cv2.imread(\"/content/degree.PNG\")\n",
        "\n",
        "image = image[..., ::-1]\n",
        "\n",
        "# load model\n",
        "model = lp.PaddleDetectionLayoutModel(config_path=\"lp://PubLayNet/ppyolov2_r50vd_dcn_365e_publaynet/config\",\n",
        "                                threshold=0.5,\n",
        "                                label_map={0: \"Text\", 1: \"Title\", 2: \"List\", 3:\"Table\", 4:\"Figure\"},\n",
        "                                enforce_cpu=False,\n",
        "                                enable_mkldnn=True)#math kernel library\n",
        "# detect\n",
        "layout = model.detect(image)"
      ],
      "metadata": {
        "id": "bw9SFYnMCX0E",
        "colab": {
          "base_uri": "https://localhost:8080/"
        },
        "outputId": "817449b7-9a43-40db-864b-48241ca8f224"
      },
      "execution_count": null,
      "outputs": [
        {
          "output_type": "stream",
          "name": "stdout",
          "text": [
            "download https://paddle-model-ecology.bj.bcebos.com/model/layout-parser/ppyolov2_r50vd_dcn_365e_publaynet.tar to /root/.paddledet/inference_model/ppyolov2_r50vd_dcn_365e_publaynet/ppyolov2_r50vd_dcn_365e_publaynet_infer/ppyolov2_r50vd_dcn_365e_publaynet.tar\n"
          ]
        },
        {
          "output_type": "stream",
          "name": "stderr",
          "text": [
            "100%|██████████| 221M/221M [00:30<00:00, 7.27MiB/s]\n"
          ]
        }
      ]
    },
    {
      "cell_type": "code",
      "source": [
        "layout"
      ],
      "metadata": {
        "id": "G76oO2WXCX6v",
        "colab": {
          "base_uri": "https://localhost:8080/"
        },
        "outputId": "347b74de-8cd2-4b92-c447-a54cd195b0f3"
      },
      "execution_count": null,
      "outputs": [
        {
          "output_type": "execute_result",
          "data": {
            "text/plain": [
              "Layout(_blocks=[TextBlock(block=Rectangle(x_1=2.985107421875, y_1=3.006134033203125, x_2=1054.37060546875, y_2=278.3926696777344), text=None, id=None, type=Table, parent=None, next=None, score=0.8207642436027527)], page_data={})"
            ]
          },
          "metadata": {},
          "execution_count": 7
        }
      ]
    },
    {
      "cell_type": "code",
      "source": [
        "x_1=0\n",
        "y_1=0\n",
        "x_2=0\n",
        "y_2=0\n",
        "\n",
        "for l in layout:\n",
        "  #print(l)\n",
        "  if l.type == 'Table':\n",
        "    x_1 = int(l.block.x_1)\n",
        "    print(l.block.x_1)\n",
        "    y_1 = int(l.block.y_1)\n",
        "    x_2 = int(l.block.x_2)\n",
        "    y_2 = int(l.block.y_2)\n",
        "    \n",
        "    break"
      ],
      "metadata": {
        "id": "y3h0kCz-CX_U",
        "colab": {
          "base_uri": "https://localhost:8080/"
        },
        "outputId": "9596d652-53fe-40fe-ab16-7760b76a0198"
      },
      "execution_count": null,
      "outputs": [
        {
          "output_type": "stream",
          "name": "stdout",
          "text": [
            "2.9851074\n"
          ]
        }
      ]
    },
    {
      "cell_type": "code",
      "source": [
        "print(x_1,y_1,x_2,y_2)"
      ],
      "metadata": {
        "id": "cdiYPeCJCYIg",
        "colab": {
          "base_uri": "https://localhost:8080/"
        },
        "outputId": "2ff1ff24-f0e1-4178-f213-605f6dbc9a6d"
      },
      "execution_count": null,
      "outputs": [
        {
          "output_type": "stream",
          "name": "stdout",
          "text": [
            "2 3 1054 278\n"
          ]
        }
      ]
    },
    {
      "cell_type": "code",
      "source": [
        "im = cv2.imread('/content/degree.PNG')"
      ],
      "metadata": {
        "id": "F39kJV3hCYLV"
      },
      "execution_count": null,
      "outputs": []
    },
    {
      "cell_type": "code",
      "source": [
        "cv2.imwrite('ext_im.jpg', im[y_1:y_2,x_1:x_2])"
      ],
      "metadata": {
        "id": "EQDXSNijCYPs",
        "colab": {
          "base_uri": "https://localhost:8080/"
        },
        "outputId": "4be01272-f430-436a-c9d3-2d4e8e598b85"
      },
      "execution_count": null,
      "outputs": [
        {
          "output_type": "execute_result",
          "data": {
            "text/plain": [
              "True"
            ]
          },
          "metadata": {},
          "execution_count": 12
        }
      ]
    },
    {
      "cell_type": "code",
      "source": [],
      "metadata": {
        "id": "7O2P4aIMor_e"
      },
      "execution_count": null,
      "outputs": []
    },
    {
      "cell_type": "markdown",
      "metadata": {
        "id": "EGwGhHnd8i_h"
      },
      "source": [
        "# Text Detection and Recognition"
      ]
    },
    {
      "cell_type": "code",
      "source": [
        "from paddleocr import PaddleOCR, draw_ocr"
      ],
      "metadata": {
        "id": "N6WQZXhLLDWk"
      },
      "execution_count": null,
      "outputs": []
    },
    {
      "cell_type": "code",
      "source": [
        "ocr = PaddleOCR(lang='en')\n",
        "image_path = '/content/ext_im.jpg'\n",
        "image_cv = cv2.imread(image_path)\n",
        "image_height = image_cv.shape[0]\n",
        "image_width = image_cv.shape[1]\n",
        "output = ocr.ocr(image_path)[0]"
      ],
      "metadata": {
        "colab": {
          "base_uri": "https://localhost:8080/"
        },
        "id": "A8bCZ9AULDZF",
        "outputId": "d898a096-83be-452e-e8f8-c0c407ed732f"
      },
      "execution_count": null,
      "outputs": [
        {
          "output_type": "stream",
          "name": "stdout",
          "text": [
            "download https://paddleocr.bj.bcebos.com/PP-OCRv3/english/en_PP-OCRv3_det_infer.tar to /root/.paddleocr/whl/det/en/en_PP-OCRv3_det_infer/en_PP-OCRv3_det_infer.tar\n"
          ]
        },
        {
          "output_type": "stream",
          "name": "stderr",
          "text": [
            "100%|██████████| 4.00M/4.00M [00:03<00:00, 1.09MiB/s]\n"
          ]
        },
        {
          "output_type": "stream",
          "name": "stdout",
          "text": [
            "download https://paddleocr.bj.bcebos.com/PP-OCRv3/english/en_PP-OCRv3_rec_infer.tar to /root/.paddleocr/whl/rec/en/en_PP-OCRv3_rec_infer/en_PP-OCRv3_rec_infer.tar\n"
          ]
        },
        {
          "output_type": "stream",
          "name": "stderr",
          "text": [
            "100%|██████████| 9.96M/9.96M [00:13<00:00, 758kiB/s] \n"
          ]
        },
        {
          "output_type": "stream",
          "name": "stdout",
          "text": [
            "download https://paddleocr.bj.bcebos.com/dygraph_v2.0/ch/ch_ppocr_mobile_v2.0_cls_infer.tar to /root/.paddleocr/whl/cls/ch_ppocr_mobile_v2.0_cls_infer/ch_ppocr_mobile_v2.0_cls_infer.tar\n"
          ]
        },
        {
          "output_type": "stream",
          "name": "stderr",
          "text": [
            "100%|██████████| 2.19M/2.19M [00:05<00:00, 397kiB/s]"
          ]
        },
        {
          "output_type": "stream",
          "name": "stdout",
          "text": [
            "[2022/12/28 07:41:52] ppocr DEBUG: Namespace(alpha=1.0, benchmark=False, beta=1.0, cls_batch_num=6, cls_image_shape='3, 48, 192', cls_model_dir='/root/.paddleocr/whl/cls/ch_ppocr_mobile_v2.0_cls_infer', cls_thresh=0.9, cpu_threads=10, crop_res_save_dir='./output', det=True, det_algorithm='DB', det_box_type='quad', det_db_box_thresh=0.6, det_db_score_mode='fast', det_db_thresh=0.3, det_db_unclip_ratio=1.5, det_east_cover_thresh=0.1, det_east_nms_thresh=0.2, det_east_score_thresh=0.8, det_limit_side_len=960, det_limit_type='max', det_model_dir='/root/.paddleocr/whl/det/en/en_PP-OCRv3_det_infer', det_pse_box_thresh=0.85, det_pse_min_area=16, det_pse_scale=1, det_pse_thresh=0, det_sast_nms_thresh=0.2, det_sast_score_thresh=0.5, draw_img_save_dir='./inference_results', drop_score=0.5, e2e_algorithm='PGNet', e2e_char_dict_path='./ppocr/utils/ic15_dict.txt', e2e_limit_side_len=768, e2e_limit_type='max', e2e_model_dir=None, e2e_pgnet_mode='fast', e2e_pgnet_score_thresh=0.5, e2e_pgnet_valid_set='totaltext', enable_mkldnn=False, fourier_degree=5, gpu_mem=500, help='==SUPPRESS==', image_dir=None, image_orientation=False, ir_optim=True, kie_algorithm='LayoutXLM', label_list=['0', '180'], lang='en', layout=True, layout_dict_path=None, layout_model_dir=None, layout_nms_threshold=0.5, layout_score_threshold=0.5, max_batch_size=10, max_text_length=25, merge_no_span_structure=True, min_subgraph_size=15, mode='structure', ocr=True, ocr_order_method=None, ocr_version='PP-OCRv3', output='./output', page_num=0, precision='fp32', process_id=0, re_model_dir=None, rec=True, rec_algorithm='SVTR_LCNet', rec_batch_num=6, rec_char_dict_path='/usr/local/lib/python3.8/dist-packages/paddleocr/ppocr/utils/en_dict.txt', rec_image_inverse=True, rec_image_shape='3, 48, 320', rec_model_dir='/root/.paddleocr/whl/rec/en/en_PP-OCRv3_rec_infer', recovery=False, save_crop_res=False, save_log_path='./log_output/', scales=[8, 16, 32], ser_dict_path='../train_data/XFUND/class_list_xfun.txt', ser_model_dir=None, show_log=True, sr_batch_num=1, sr_image_shape='3, 32, 128', sr_model_dir=None, structure_version='PP-StructureV2', table=True, table_algorithm='TableAttn', table_char_dict_path=None, table_max_len=488, table_model_dir=None, total_process_num=1, type='ocr', use_angle_cls=False, use_dilation=False, use_gpu=True, use_mp=False, use_npu=False, use_onnx=False, use_pdf2docx_api=False, use_pdserving=False, use_space_char=True, use_tensorrt=False, use_visual_backbone=True, use_xpu=False, vis_font_path='./doc/fonts/simfang.ttf', warmup=False)\n"
          ]
        },
        {
          "output_type": "stream",
          "name": "stderr",
          "text": [
            "\n"
          ]
        },
        {
          "output_type": "stream",
          "name": "stdout",
          "text": [
            "[2022/12/28 07:41:53] ppocr WARNING: Since the angle classifier is not initialized, the angle classifier will not be uesd during the forward process\n",
            "[2022/12/28 07:41:53] ppocr DEBUG: dt_boxes num : 12, elapse : 0.11786246299743652\n",
            "[2022/12/28 07:41:53] ppocr DEBUG: rec_res num  : 12, elapse : 0.06296253204345703\n"
          ]
        }
      ]
    },
    {
      "cell_type": "code",
      "source": [
        "print(output)"
      ],
      "metadata": {
        "colab": {
          "base_uri": "https://localhost:8080/"
        },
        "id": "VBIDZA0XLDeA",
        "outputId": "1f6cf14d-d0c0-49b4-c8a4-5f654121443d"
      },
      "execution_count": null,
      "outputs": [
        {
          "output_type": "stream",
          "name": "stdout",
          "text": [
            "[[[[12.0, 12.0], [270.0, 12.0], [270.0, 30.0], [12.0, 30.0]], ('SURFACE DESCRIPTION', 0.9727074503898621)], [[[540.0, 13.0], [734.0, 13.0], [734.0, 31.0], [540.0, 31.0]], ('MINIMUMDRAFT', 0.9949274659156799)], [[[11.0, 59.0], [316.0, 61.0], [316.0, 80.0], [11.0, 77.0]], ('For\"near-vertical\"requirements', 0.9800485372543335)], [[[538.0, 58.0], [579.0, 58.0], [579.0, 78.0], [538.0, 78.0]], ('0.5', 0.9910731315612793)], [[[11.0, 105.0], [247.0, 107.0], [246.0, 126.0], [11.0, 123.0]], ('Most common situations', 0.9732671976089478)], [[[536.0, 103.0], [563.0, 103.0], [563.0, 127.0], [536.0, 127.0]], ('2', 0.9986116886138916)], [[[12.0, 153.0], [193.0, 153.0], [193.0, 171.0], [12.0, 171.0]], ('All shutoffsurfaces', 0.965264081954956)], [[[536.0, 149.0], [563.0, 149.0], [563.0, 173.0], [536.0, 173.0]], ('3o', 0.7495986223220825)], [[[12.0, 200.0], [242.0, 200.0], [242.0, 218.0], [12.0, 218.0]], ('Faces with light textures', 0.9387519359588623)], [[[536.0, 197.0], [563.0, 197.0], [563.0, 219.0], [536.0, 219.0]], ('3', 0.9987180233001709)], [[[12.0, 245.0], [277.0, 245.0], [277.0, 263.0], [12.0, 263.0]], ('Faces with medium textures', 0.9692059755325317)], [[[538.0, 243.0], [574.0, 243.0], [574.0, 264.0], [538.0, 264.0]], ('5+', 0.9715487957000732)]]\n"
          ]
        }
      ]
    },
    {
      "cell_type": "code",
      "source": [
        "boxes = [line[0] for line in output]\n",
        "texts = [line[1][0] for line in output]\n",
        "probabilities = [line[1][1] for line in output]"
      ],
      "metadata": {
        "id": "nNMBAQ78LDgG"
      },
      "execution_count": null,
      "outputs": []
    },
    {
      "cell_type": "code",
      "source": [
        "image_boxes = image_cv.copy()\n"
      ],
      "metadata": {
        "id": "uukcg4SWV_dg"
      },
      "execution_count": null,
      "outputs": []
    },
    {
      "cell_type": "code",
      "source": [
        "for box,text in zip(boxes,texts):\n",
        "  cv2.rectangle(image_boxes, (int(box[0][0]),int(box[0][1])), (int(box[2][0]),int(box[2][1])),(0,0,255),1)\n",
        "  cv2.putText(image_boxes, text,(int(box[0][0]),int(box[0][1])),cv2.FONT_HERSHEY_SIMPLEX,1,(222,0,0),1)"
      ],
      "metadata": {
        "id": "l_HzbiA7V_fw"
      },
      "execution_count": null,
      "outputs": []
    },
    {
      "cell_type": "code",
      "source": [
        "cv2.imwrite('detections.jpg', image_boxes)"
      ],
      "metadata": {
        "colab": {
          "base_uri": "https://localhost:8080/"
        },
        "id": "PfUG9mcgV_iJ",
        "outputId": "4c9daefb-de3f-4367-a590-49d4fdf91dd7"
      },
      "execution_count": null,
      "outputs": [
        {
          "output_type": "execute_result",
          "data": {
            "text/plain": [
              "True"
            ]
          },
          "metadata": {},
          "execution_count": 19
        }
      ]
    },
    {
      "cell_type": "markdown",
      "metadata": {
        "id": "kYWt0lzDHZNp"
      },
      "source": [
        "# Reconstruction"
      ]
    },
    {
      "cell_type": "markdown",
      "source": [
        "## Get Horizontal and Vertical Lines"
      ],
      "metadata": {
        "id": "ruzifYJz4H6y"
      }
    },
    {
      "cell_type": "code",
      "source": [
        "im = image_cv.copy()"
      ],
      "metadata": {
        "id": "YLIoKedcqby_"
      },
      "execution_count": null,
      "outputs": []
    },
    {
      "cell_type": "code",
      "source": [
        "horiz_boxes = []\n",
        "vert_boxes = []\n",
        "\n",
        "for box in boxes:\n",
        "  x_h, x_v = 0,int(box[0][0])\n",
        "  y_h, y_v = int(box[0][1]),0\n",
        "  width_h,width_v = image_width, int(box[2][0]-box[0][0])\n",
        "  height_h,height_v = int(box[2][1]-box[0][1]),image_height\n",
        "\n",
        "  horiz_boxes.append([x_h,y_h,x_h+width_h,y_h+height_h])\n",
        "  vert_boxes.append([x_v,y_v,x_v+width_v,y_v+height_v])\n",
        "\n",
        "  cv2.rectangle(im,(x_h,y_h), (x_h+width_h,y_h+height_h),(0,0,255),1)\n",
        "  cv2.rectangle(im,(x_v,y_v), (x_v+width_v,y_v+height_v),(0,255,0),1)\n",
        "  "
      ],
      "metadata": {
        "id": "GwcAAe-wccnF"
      },
      "execution_count": null,
      "outputs": []
    },
    {
      "cell_type": "code",
      "source": [
        "cv2.imwrite('horiz_vert.jpg',im)"
      ],
      "metadata": {
        "colab": {
          "base_uri": "https://localhost:8080/"
        },
        "id": "7UxFGhMkccph",
        "outputId": "6e9dc368-b2f6-482d-81d0-11d84a534ba3"
      },
      "execution_count": null,
      "outputs": [
        {
          "output_type": "execute_result",
          "data": {
            "text/plain": [
              "True"
            ]
          },
          "metadata": {},
          "execution_count": 22
        }
      ]
    },
    {
      "cell_type": "markdown",
      "source": [
        "## Non-Max Suppression"
      ],
      "metadata": {
        "id": "ekVFvJrM4ROL"
      }
    },
    {
      "cell_type": "code",
      "source": [
        "horiz_out = tf.image.non_max_suppression(\n",
        "    horiz_boxes,\n",
        "    probabilities,\n",
        "    max_output_size = 1000,\n",
        "    iou_threshold=0.1,\n",
        "    score_threshold=float('-inf'),\n",
        "    name=None\n",
        ")"
      ],
      "metadata": {
        "id": "4LVSSB2fcoe7"
      },
      "execution_count": null,
      "outputs": []
    },
    {
      "cell_type": "code",
      "source": [
        "horiz_lines = np.sort(np.array(horiz_out))\n",
        "print(horiz_lines)"
      ],
      "metadata": {
        "colab": {
          "base_uri": "https://localhost:8080/"
        },
        "id": "pOboYpGnccr2",
        "outputId": "636c59e9-bff5-44d8-8f30-aca188b1f7e3"
      },
      "execution_count": null,
      "outputs": [
        {
          "output_type": "stream",
          "name": "stdout",
          "text": [
            "[ 1  3  5  6  9 11]\n"
          ]
        }
      ]
    },
    {
      "cell_type": "code",
      "source": [
        "im_nms = image_cv.copy()"
      ],
      "metadata": {
        "id": "pfxHrn3iccyK"
      },
      "execution_count": null,
      "outputs": []
    },
    {
      "cell_type": "code",
      "source": [
        "for val in horiz_lines:\n",
        "  cv2.rectangle(im_nms, (int(horiz_boxes[val][0]),int(horiz_boxes[val][1])), (int(horiz_boxes[val][2]),int(horiz_boxes[val][3])),(0,0,255),1)\n",
        "  "
      ],
      "metadata": {
        "id": "68PCHfmZcc0L"
      },
      "execution_count": null,
      "outputs": []
    },
    {
      "cell_type": "code",
      "source": [
        "cv2.imwrite('im_nms.jpg',im_nms)"
      ],
      "metadata": {
        "colab": {
          "base_uri": "https://localhost:8080/"
        },
        "id": "Z8r9qpiAcc2X",
        "outputId": "fc37cd0c-efd3-4753-b803-ab51a84c95f6"
      },
      "execution_count": null,
      "outputs": [
        {
          "output_type": "execute_result",
          "data": {
            "text/plain": [
              "True"
            ]
          },
          "metadata": {},
          "execution_count": 31
        }
      ]
    },
    {
      "cell_type": "code",
      "source": [
        "vert_out = tf.image.non_max_suppression(\n",
        "    vert_boxes,\n",
        "    probabilities,\n",
        "    max_output_size = 1000,\n",
        "    iou_threshold=0.1,\n",
        "    score_threshold=float('-inf'),\n",
        "    name=None\n",
        ")"
      ],
      "metadata": {
        "id": "mKgPuh7rcc4s"
      },
      "execution_count": null,
      "outputs": []
    },
    {
      "cell_type": "code",
      "source": [
        "print(vert_out)"
      ],
      "metadata": {
        "colab": {
          "base_uri": "https://localhost:8080/"
        },
        "id": "GBpKsImVcc6p",
        "outputId": "2c988f43-9aae-41e1-8789-1dab41cc4faa"
      },
      "execution_count": null,
      "outputs": [
        {
          "output_type": "stream",
          "name": "stdout",
          "text": [
            "tf.Tensor([9 2], shape=(2,), dtype=int32)\n"
          ]
        }
      ]
    },
    {
      "cell_type": "code",
      "source": [
        "vert_lines = np.sort(np.array(vert_out))\n",
        "print(vert_lines)"
      ],
      "metadata": {
        "colab": {
          "base_uri": "https://localhost:8080/"
        },
        "id": "K0lBh-yz5YLp",
        "outputId": "1e3d88f2-0d5d-4e25-cf31-eb920bd56a2a"
      },
      "execution_count": null,
      "outputs": [
        {
          "output_type": "stream",
          "name": "stdout",
          "text": [
            "[2 9]\n"
          ]
        }
      ]
    },
    {
      "cell_type": "code",
      "source": [
        "for val in vert_lines:\n",
        "  cv2.rectangle(im_nms, (int(vert_boxes[val][0]),int(vert_boxes[val][1])), (int(vert_boxes[val][2]),int(vert_boxes[val][3])),(255,0,0),1)\n",
        "  "
      ],
      "metadata": {
        "id": "WqsLm0L_cc84"
      },
      "execution_count": null,
      "outputs": []
    },
    {
      "cell_type": "code",
      "source": [
        "cv2.imwrite('im_nms.jpg',im_nms)"
      ],
      "metadata": {
        "colab": {
          "base_uri": "https://localhost:8080/"
        },
        "id": "xZOEa7lpcdGM",
        "outputId": "8eeb1b74-d64c-4106-f2b9-7623204bf730"
      },
      "execution_count": null,
      "outputs": [
        {
          "output_type": "execute_result",
          "data": {
            "text/plain": [
              "True"
            ]
          },
          "metadata": {},
          "execution_count": 36
        }
      ]
    },
    {
      "cell_type": "markdown",
      "source": [
        "## Convert to CSV"
      ],
      "metadata": {
        "id": "116eBUrO93-i"
      }
    },
    {
      "cell_type": "code",
      "source": [
        "\n",
        "\n",
        "out_array = [[\"\" for i in range(len(vert_lines))] for j in range(len(horiz_lines))]\n",
        "print(np.array(out_array).shape)\n",
        "print(out_array)"
      ],
      "metadata": {
        "colab": {
          "base_uri": "https://localhost:8080/"
        },
        "id": "HRQzwVUTcdIq",
        "outputId": "769dc167-6b2e-4372-b89d-7a1432cfb3ba"
      },
      "execution_count": null,
      "outputs": [
        {
          "output_type": "stream",
          "name": "stdout",
          "text": [
            "(6, 2)\n",
            "[['', ''], ['', ''], ['', ''], ['', ''], ['', ''], ['', '']]\n"
          ]
        }
      ]
    },
    {
      "cell_type": "code",
      "source": [
        "\n",
        "unordered_boxes = []\n",
        "\n",
        "for i in vert_lines:\n",
        "  print(vert_boxes[i])\n",
        "  unordered_boxes.append(vert_boxes[i][0])"
      ],
      "metadata": {
        "colab": {
          "base_uri": "https://localhost:8080/"
        },
        "id": "sSrupaRZIAk_",
        "outputId": "08f4cd1e-067e-4ef0-9d87-a7e283c40367"
      },
      "execution_count": null,
      "outputs": [
        {
          "output_type": "stream",
          "name": "stdout",
          "text": [
            "[11, 0, 316, 275]\n",
            "[536, 0, 563, 275]\n"
          ]
        }
      ]
    },
    {
      "cell_type": "code",
      "source": [
        "ordered_boxes = np.argsort(unordered_boxes)\n",
        "print(ordered_boxes)"
      ],
      "metadata": {
        "colab": {
          "base_uri": "https://localhost:8080/"
        },
        "id": "lRMlVNh_HuJV",
        "outputId": "d904c54c-9170-4db9-c430-b84e87e61c39"
      },
      "execution_count": null,
      "outputs": [
        {
          "output_type": "stream",
          "name": "stdout",
          "text": [
            "[0 1]\n"
          ]
        }
      ]
    },
    {
      "cell_type": "code",
      "source": [
        "def intersection(box_1, box_2):\n",
        "  return [box_2[0], box_1[1],box_2[2], box_1[3]]"
      ],
      "metadata": {
        "id": "AHHaxKUuC6jQ"
      },
      "execution_count": null,
      "outputs": []
    },
    {
      "cell_type": "code",
      "source": [
        "def iou(box_1, box_2):\n",
        "\n",
        "  x_1 = max(box_1[0], box_2[0])\n",
        "  y_1 = max(box_1[1], box_2[1])\n",
        "  x_2 = min(box_1[2], box_2[2])\n",
        "  y_2 = min(box_1[3], box_2[3])\n",
        "\n",
        "  inter = abs(max((x_2 - x_1, 0)) * max((y_2 - y_1), 0))\n",
        "  if inter == 0:\n",
        "      return 0\n",
        "      \n",
        "  box_1_area = abs((box_1[2] - box_1[0]) * (box_1[3] - box_1[1]))\n",
        "  box_2_area = abs((box_2[2] - box_2[0]) * (box_2[3] - box_2[1]))\n",
        "  \n",
        "  return inter / float(box_1_area + box_2_area - inter)"
      ],
      "metadata": {
        "id": "fDVb0DkxJSIf"
      },
      "execution_count": null,
      "outputs": []
    },
    {
      "cell_type": "code",
      "source": [
        "for i in range(len(horiz_lines)):\n",
        "  for j in range(len(vert_lines)):\n",
        "    resultant = intersection(horiz_boxes[horiz_lines[i]], vert_boxes[vert_lines[ordered_boxes[j]]] )\n",
        "\n",
        "    for b in range(len(boxes)):\n",
        "      the_box = [boxes[b][0][0],boxes[b][0][1],boxes[b][2][0],boxes[b][2][1]]\n",
        "      if(iou(resultant,the_box)>0.1):\n",
        "        out_array[i][j] = texts[b]"
      ],
      "metadata": {
        "id": "LWGhCwg6BIoL"
      },
      "execution_count": null,
      "outputs": []
    },
    {
      "cell_type": "code",
      "source": [
        "out_array=np.array(out_array)"
      ],
      "metadata": {
        "id": "c4tEY9LGNIM9"
      },
      "execution_count": null,
      "outputs": []
    },
    {
      "cell_type": "code",
      "source": [
        "out_array"
      ],
      "metadata": {
        "id": "_ekto4-Ymxv2",
        "outputId": "fb20abcc-d2f6-43f9-b91a-4c240ea431a7",
        "colab": {
          "base_uri": "https://localhost:8080/"
        }
      },
      "execution_count": null,
      "outputs": [
        {
          "output_type": "execute_result",
          "data": {
            "text/plain": [
              "array([['SURFACE DESCRIPTION', 'MINIMUMDRAFT'],\n",
              "       ['For\"near-vertical\"requirements', '0.5'],\n",
              "       ['Most common situations', '2'],\n",
              "       ['All shutoffsurfaces', '3o'],\n",
              "       ['Faces with light textures', '3'],\n",
              "       ['Faces with medium textures', '5+']], dtype='<U30')"
            ]
          },
          "metadata": {},
          "execution_count": 44
        }
      ]
    },
    {
      "cell_type": "code",
      "source": [
        "pd.DataFrame(out_array).to_csv('sample.csv')"
      ],
      "metadata": {
        "id": "D8UdX80wBI9V"
      },
      "execution_count": null,
      "outputs": []
    },
    {
      "cell_type": "markdown",
      "source": [
        "## Merging Cells"
      ],
      "metadata": {
        "id": "E693Ela3qhLx"
      }
    },
    {
      "cell_type": "code",
      "source": [
        "current_bank=['']*len(out_array[0,:])\n",
        "print(current_bank)"
      ],
      "metadata": {
        "colab": {
          "base_uri": "https://localhost:8080/"
        },
        "id": "XNcX7fEWPDfw",
        "outputId": "11524b18-640b-49ec-da29-f8fdc76b9dba"
      },
      "execution_count": null,
      "outputs": [
        {
          "output_type": "stream",
          "name": "stdout",
          "text": [
            "['', '']\n"
          ]
        }
      ]
    },
    {
      "cell_type": "code",
      "source": [
        "def empty(arr):\n",
        "  for i in arr:\n",
        "    if i=='':\n",
        "      return True\n",
        "  return False"
      ],
      "metadata": {
        "id": "TTF5ojcCQJKR"
      },
      "execution_count": null,
      "outputs": []
    },
    {
      "cell_type": "code",
      "source": [
        "cleaned_array=[]"
      ],
      "metadata": {
        "id": "3w1amnEXSVSB"
      },
      "execution_count": null,
      "outputs": []
    },
    {
      "cell_type": "code",
      "source": [
        "for i in range(len(out_array)):\n",
        "  if not empty(out_array[i]):\n",
        "    current_bank=[out_array[i][j] for j in range(len(out_array[i]))]\n",
        "    cleaned_array.append(current_bank)\n",
        "    not_empty=True\n",
        "  else:\n",
        "    for j in range(len(out_array[i])):\n",
        "      current_bank[j]+=' '+out_array[i][j]\n",
        "    print('-->',current_bank)\n",
        "cleaned_array=np.array(cleaned_array)\n",
        "print(cleaned_array)"
      ],
      "metadata": {
        "id": "W_q9e2EkPepQ",
        "colab": {
          "base_uri": "https://localhost:8080/"
        },
        "outputId": "bac6fdb9-2a17-44f8-b117-b72b9ef09207"
      },
      "execution_count": null,
      "outputs": [
        {
          "output_type": "stream",
          "name": "stdout",
          "text": [
            "[['SURFACE DESCRIPTION' 'MINIMUMDRAFT']\n",
            " ['For\"near-vertical\"requirements' '0.5']\n",
            " ['Most common situations' '2']\n",
            " ['All shutoffsurfaces' '3o']\n",
            " ['Faces with light textures' '3']\n",
            " ['Faces with medium textures' '5+']]\n"
          ]
        }
      ]
    },
    {
      "cell_type": "code",
      "source": [
        "pd.DataFrame(cleaned_array).to_csv('cleaned.csv')"
      ],
      "metadata": {
        "id": "RZltyMmD_E68"
      },
      "execution_count": null,
      "outputs": []
    },
    {
      "cell_type": "markdown",
      "source": [
        "# Convert to OWL Format"
      ],
      "metadata": {
        "id": "M9rH5mX9Mx7g"
      }
    },
    {
      "cell_type": "markdown",
      "source": [
        "# **CSV to Text**"
      ],
      "metadata": {
        "id": "SqFdbM634H5w"
      }
    },
    {
      "cell_type": "code",
      "source": [
        "!pip install JPype1"
      ],
      "metadata": {
        "id": "tlbs2_Zssy0D",
        "outputId": "9462a19d-b80f-4a76-c73f-8ddac311812f",
        "colab": {
          "base_uri": "https://localhost:8080/"
        }
      },
      "execution_count": null,
      "outputs": [
        {
          "output_type": "stream",
          "name": "stdout",
          "text": [
            "Looking in indexes: https://pypi.org/simple, https://us-python.pkg.dev/colab-wheels/public/simple/\n",
            "Requirement already satisfied: JPype1 in /usr/local/lib/python3.8/dist-packages (1.4.1)\n",
            "Requirement already satisfied: packaging in /usr/local/lib/python3.8/dist-packages (from JPype1) (21.3)\n",
            "Requirement already satisfied: pyparsing!=3.0.5,>=2.0.2 in /usr/local/lib/python3.8/dist-packages (from packaging->JPype1) (3.0.9)\n"
          ]
        }
      ]
    },
    {
      "cell_type": "code",
      "source": [
        "!pip install aspose-cells"
      ],
      "metadata": {
        "id": "lht6HNOPs_5C",
        "outputId": "bdcdc8a1-02b3-4f3c-d402-4c0ecabd9b5d",
        "colab": {
          "base_uri": "https://localhost:8080/"
        }
      },
      "execution_count": null,
      "outputs": [
        {
          "output_type": "stream",
          "name": "stdout",
          "text": [
            "Looking in indexes: https://pypi.org/simple, https://us-python.pkg.dev/colab-wheels/public/simple/\n",
            "Collecting aspose-cells\n",
            "  Downloading aspose-cells-22.12.0.tar.gz (12.3 MB)\n",
            "\u001b[K     |████████████████████████████████| 12.3 MB 30.6 MB/s \n",
            "\u001b[?25hRequirement already satisfied: JPype1>=1.2.1 in /usr/local/lib/python3.8/dist-packages (from aspose-cells) (1.4.1)\n",
            "Requirement already satisfied: packaging in /usr/local/lib/python3.8/dist-packages (from JPype1>=1.2.1->aspose-cells) (21.3)\n",
            "Requirement already satisfied: pyparsing!=3.0.5,>=2.0.2 in /usr/local/lib/python3.8/dist-packages (from packaging->JPype1>=1.2.1->aspose-cells) (3.0.9)\n",
            "Building wheels for collected packages: aspose-cells\n",
            "  Building wheel for aspose-cells (setup.py) ... \u001b[?25l\u001b[?25hdone\n",
            "  Created wheel for aspose-cells: filename=aspose_cells-22.12.0-py3-none-any.whl size=12258228 sha256=d7d817961711ebd441eae801b759d44ee040e521b757fb1d4f183d22fc5271be\n",
            "  Stored in directory: /root/.cache/pip/wheels/b2/3b/65/9604ed510d35efd562b27b731581f327b06fd9dd6245644267\n",
            "Successfully built aspose-cells\n",
            "Installing collected packages: aspose-cells\n",
            "Successfully installed aspose-cells-22.12.0\n"
          ]
        }
      ]
    },
    {
      "cell_type": "code",
      "source": [
        "import  jpype     \n",
        "import  asposecells  \n",
        "\n",
        "\n",
        "jpype.startJVM() \n",
        "from asposecells.api import Workbook\n",
        "\n",
        "workbook = Workbook(\"/content/sample.csv\")\n",
        "workbook.save(\"Output.docx\")\n",
        "jpype.shutdownJVM()"
      ],
      "metadata": {
        "id": "949GB9T1_Go7"
      },
      "execution_count": null,
      "outputs": []
    },
    {
      "cell_type": "code",
      "source": [],
      "metadata": {
        "id": "eIGJDS7u4DLS"
      },
      "execution_count": null,
      "outputs": []
    },
    {
      "cell_type": "code",
      "source": [],
      "metadata": {
        "id": "ziHBaaCn4DN2"
      },
      "execution_count": null,
      "outputs": []
    },
    {
      "cell_type": "markdown",
      "source": [
        "# Brighten Image (For Anyone dealing with PDFs created from scanned images)"
      ],
      "metadata": {
        "id": "FIzj02CHqce7"
      }
    },
    {
      "cell_type": "code",
      "source": [
        "from PIL import Image, ImageEnhance\n",
        "\n",
        "#read the image\n",
        "im = Image.open(\"ext_im.jpg\")\n",
        "\n",
        "#image brightness enhancer\n",
        "enhancer = ImageEnhance.Brightness(im)\n",
        "\n",
        "factor = 1 #gives original image\n",
        "im_output = enhancer.enhance(factor)\n",
        "im_output.save('ext_im-1.jpg')\n",
        "\n",
        "factor = 1.5## brightens the image\n",
        "im_output = enhancer.enhance(factor)\n",
        "im_output.save('ext_im-2.jpg')\n"
      ],
      "metadata": {
        "id": "vnzqj5q34DQk"
      },
      "execution_count": null,
      "outputs": []
    },
    {
      "cell_type": "code",
      "source": [],
      "metadata": {
        "id": "arQSfE2br7YT"
      },
      "execution_count": null,
      "outputs": []
    }
  ],
  "metadata": {
    "accelerator": "GPU",
    "colab": {
      "collapsed_sections": [
        "E693Ela3qhLx",
        "SqFdbM634H5w",
        "FIzj02CHqce7"
      ],
      "provenance": [],
      "include_colab_link": true
    },
    "kernelspec": {
      "display_name": "Python 3",
      "name": "python3"
    },
    "language_info": {
      "name": "python"
    }
  },
  "nbformat": 4,
  "nbformat_minor": 0
}